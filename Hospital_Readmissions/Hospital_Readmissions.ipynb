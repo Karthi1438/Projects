{
 "cells": [
  {
   "cell_type": "code",
   "execution_count": null,
   "metadata": {
    "id": "RbiFJ_c21PZv"
   },
   "outputs": [],
   "source": [
    "\n",
    "# IMPORTANT: RUN THIS CELL IN ORDER TO IMPORT YOUR KAGGLE DATA SOURCES\n",
    "# TO THE CORRECT LOCATION (/kaggle/input) IN YOUR NOTEBOOK,\n",
    "# THEN FEEL FREE TO DELETE THIS CELL.\n",
    "# NOTE: THIS NOTEBOOK ENVIRONMENT DIFFERS FROM KAGGLE'S PYTHON\n",
    "# ENVIRONMENT SO THERE MAY BE MISSING LIBRARIES USED BY YOUR\n",
    "# NOTEBOOK.\n",
    "\n",
    "import os\n",
    "import sys\n",
    "from tempfile import NamedTemporaryFile\n",
    "from urllib.request import urlopen\n",
    "from urllib.parse import unquote, urlparse\n",
    "from urllib.error import HTTPError\n",
    "from zipfile import ZipFile\n",
    "import tarfile\n",
    "import shutil\n",
    "\n",
    "CHUNK_SIZE = 40960\n",
    "DATA_SOURCE_MAPPING = 'hospital-readmissions:https%3A%2F%2Fstorage.googleapis.com%2Fkaggle-data-sets%2F2987828%2F5142625%2Fbundle%2Farchive.zip%3FX-Goog-Algorithm%3DGOOG4-RSA-SHA256%26X-Goog-Credential%3Dgcp-kaggle-com%2540kaggle-161607.iam.gserviceaccount.com%252F20240924%252Fauto%252Fstorage%252Fgoog4_request%26X-Goog-Date%3D20240924T161947Z%26X-Goog-Expires%3D259200%26X-Goog-SignedHeaders%3Dhost%26X-Goog-Signature%3Dccb56329d92b6bcfe8d2ffa10be6cce58a5559092e5bab55cc9d957d448ed5e3929496394d9c1fd83ec9191009c468a3477554575e68416d044db7746e8b6529e6351ccc03e75a6d337149ca6ad3f4812b04fabbc3cdff364d48141edf99230d47b06d05ab4aa81f246afb37fdf5ed8536058d2c81093422afb28a1e8cdd6c03c2ee489694b8645932db7d85d48f23f25ea15f2a52e909f708f0886de49889f7b959f8e730a374a7fd789e7d843195e662d5e68fea2e86a7afb36c5b90355fedeb3515d2e65a95ee8cff47a313deb5d027249850c2bc5ab1612d987a6569c0516cab0d20ea999a4bbe3bf750cd4e467a38f2d7561757ce5b87c281f750592971'\n",
    "\n",
    "KAGGLE_INPUT_PATH='/kaggle/input'\n",
    "KAGGLE_WORKING_PATH='/kaggle/working'\n",
    "KAGGLE_SYMLINK='kaggle'\n",
    "\n",
    "!umount /kaggle/input/ 2> /dev/null\n",
    "shutil.rmtree('/kaggle/input', ignore_errors=True)\n",
    "os.makedirs(KAGGLE_INPUT_PATH, 0o777, exist_ok=True)\n",
    "os.makedirs(KAGGLE_WORKING_PATH, 0o777, exist_ok=True)\n",
    "\n",
    "try:\n",
    "  os.symlink(KAGGLE_INPUT_PATH, os.path.join(\"..\", 'input'), target_is_directory=True)\n",
    "except FileExistsError:\n",
    "  pass\n",
    "try:\n",
    "  os.symlink(KAGGLE_WORKING_PATH, os.path.join(\"..\", 'working'), target_is_directory=True)\n",
    "except FileExistsError:\n",
    "  pass\n",
    "\n",
    "for data_source_mapping in DATA_SOURCE_MAPPING.split(','):\n",
    "    directory, download_url_encoded = data_source_mapping.split(':')\n",
    "    download_url = unquote(download_url_encoded)\n",
    "    filename = urlparse(download_url).path\n",
    "    destination_path = os.path.join(KAGGLE_INPUT_PATH, directory)\n",
    "    try:\n",
    "        with urlopen(download_url) as fileres, NamedTemporaryFile() as tfile:\n",
    "            total_length = fileres.headers['content-length']\n",
    "            print(f'Downloading {directory}, {total_length} bytes compressed')\n",
    "            dl = 0\n",
    "            data = fileres.read(CHUNK_SIZE)\n",
    "            while len(data) > 0:\n",
    "                dl += len(data)\n",
    "                tfile.write(data)\n",
    "                done = int(50 * dl / int(total_length))\n",
    "                sys.stdout.write(f\"\\r[{'=' * done}{' ' * (50-done)}] {dl} bytes downloaded\")\n",
    "                sys.stdout.flush()\n",
    "                data = fileres.read(CHUNK_SIZE)\n",
    "            if filename.endswith('.zip'):\n",
    "              with ZipFile(tfile) as zfile:\n",
    "                zfile.extractall(destination_path)\n",
    "            else:\n",
    "              with tarfile.open(tfile.name) as tarfile:\n",
    "                tarfile.extractall(destination_path)\n",
    "            print(f'\\nDownloaded and uncompressed: {directory}')\n",
    "    except HTTPError as e:\n",
    "        print(f'Failed to load (likely expired) {download_url} to path {destination_path}')\n",
    "        continue\n",
    "    except OSError as e:\n",
    "        print(f'Failed to load {download_url} to path {destination_path}')\n",
    "        continue\n",
    "\n",
    "print('Data source import complete.')\n"
   ]
  },
  {
   "cell_type": "code",
   "execution_count": null,
   "metadata": {
    "_cell_guid": "b1076dfc-b9ad-4769-8c92-a6c4dae69d19",
    "_uuid": "8f2839f25d086af736a60e9eeb907d3b93b6e0e5",
    "execution": {
     "iopub.execute_input": "2024-07-28T02:13:05.239707Z",
     "iopub.status.busy": "2024-07-28T02:13:05.239271Z",
     "iopub.status.idle": "2024-07-28T02:13:05.250661Z",
     "shell.execute_reply": "2024-07-28T02:13:05.247083Z",
     "shell.execute_reply.started": "2024-07-28T02:13:05.239672Z"
    },
    "id": "8g1sIRoQ1PZx"
   },
   "outputs": [],
   "source": [
    "import pandas as pd\n",
    "import re\n",
    "from sklearn.preprocessing import StandardScaler\n",
    "from sklearn.model_selection import train_test_split\n",
    "from sklearn.linear_model import LogisticRegression\n",
    "from sklearn.metrics import precision_score, recall_score, f1_score, classification_report, confusion_matrix\n"
   ]
  },
  {
   "cell_type": "code",
   "execution_count": null,
   "metadata": {
    "execution": {
     "iopub.execute_input": "2024-07-28T02:13:05.253712Z",
     "iopub.status.busy": "2024-07-28T02:13:05.253176Z",
     "iopub.status.idle": "2024-07-28T02:13:05.449471Z",
     "shell.execute_reply": "2024-07-28T02:13:05.447526Z",
     "shell.execute_reply.started": "2024-07-28T02:13:05.25367Z"
    },
    "id": "OTAEyGIw1PZx"
   },
   "outputs": [],
   "source": [
    "df = pd.read_csv('/kaggle/input/hospital-readmissions/hospital_readmissions.csv')\n",
    "df.head()"
   ]
  },
  {
   "cell_type": "code",
   "execution_count": null,
   "metadata": {
    "execution": {
     "iopub.execute_input": "2024-07-28T02:13:05.453599Z",
     "iopub.status.busy": "2024-07-28T02:13:05.452919Z",
     "iopub.status.idle": "2024-07-28T02:13:05.465826Z",
     "shell.execute_reply": "2024-07-28T02:13:05.464064Z",
     "shell.execute_reply.started": "2024-07-28T02:13:05.453545Z"
    },
    "id": "T4OT-59-1PZx"
   },
   "outputs": [],
   "source": [
    "df.shape"
   ]
  },
  {
   "cell_type": "code",
   "execution_count": null,
   "metadata": {
    "execution": {
     "iopub.execute_input": "2024-07-28T02:13:05.468926Z",
     "iopub.status.busy": "2024-07-28T02:13:05.46785Z",
     "iopub.status.idle": "2024-07-28T02:13:05.481152Z",
     "shell.execute_reply": "2024-07-28T02:13:05.479845Z",
     "shell.execute_reply.started": "2024-07-28T02:13:05.468879Z"
    },
    "id": "FOpvknbh1PZy"
   },
   "outputs": [],
   "source": [
    "df.columns"
   ]
  },
  {
   "cell_type": "code",
   "execution_count": null,
   "metadata": {
    "execution": {
     "iopub.execute_input": "2024-07-28T02:13:05.484823Z",
     "iopub.status.busy": "2024-07-28T02:13:05.484318Z",
     "iopub.status.idle": "2024-07-28T02:13:05.532895Z",
     "shell.execute_reply": "2024-07-28T02:13:05.531115Z",
     "shell.execute_reply.started": "2024-07-28T02:13:05.484774Z"
    },
    "id": "LbUaX63i1PZy"
   },
   "outputs": [],
   "source": [
    "df.isnull().sum()"
   ]
  },
  {
   "cell_type": "code",
   "execution_count": null,
   "metadata": {
    "execution": {
     "iopub.execute_input": "2024-07-28T02:15:19.62864Z",
     "iopub.status.busy": "2024-07-28T02:15:19.628198Z",
     "iopub.status.idle": "2024-07-28T02:15:19.742871Z",
     "shell.execute_reply": "2024-07-28T02:15:19.741401Z",
     "shell.execute_reply.started": "2024-07-28T02:15:19.628606Z"
    },
    "id": "5DsgMAa11PZy"
   },
   "outputs": [],
   "source": [
    "# Define a function to clean and convert age ranges\n",
    "def age_to_numeric(age_str):\n",
    "    # Remove non-numeric characters and handle ranges\n",
    "    if isinstance(age_str, str):\n",
    "        # Remove any extraneous characters like parentheses\n",
    "        age_str = re.sub(r'[^\\d\\-]', '', age_str)\n",
    "        if '-' in age_str:\n",
    "            start, end = age_str.split('-')\n",
    "            return (int(start) + int(end)) / 2\n",
    "        return float(age_str)\n",
    "    return float(age_str)\n",
    "\n",
    "# Apply the function to the 'age' column\n",
    "df['age'] = df['age'].apply(age_to_numeric)"
   ]
  },
  {
   "cell_type": "code",
   "execution_count": null,
   "metadata": {
    "execution": {
     "iopub.execute_input": "2024-07-28T02:15:45.233007Z",
     "iopub.status.busy": "2024-07-28T02:15:45.232561Z",
     "iopub.status.idle": "2024-07-28T02:15:45.289783Z",
     "shell.execute_reply": "2024-07-28T02:15:45.288289Z",
     "shell.execute_reply.started": "2024-07-28T02:15:45.232974Z"
    },
    "id": "76bR_zAl1PZy"
   },
   "outputs": [],
   "source": [
    "# One-hot encode categorical variables\n",
    "categorical_columns = ['medical_specialty', 'diag_1', 'diag_2', 'diag_3', 'glucose_test', 'A1Ctest', 'change', 'diabetes_med']\n",
    "df_encoded = pd.get_dummies(df, columns=categorical_columns, drop_first=True)"
   ]
  },
  {
   "cell_type": "code",
   "execution_count": null,
   "metadata": {
    "execution": {
     "iopub.execute_input": "2024-07-28T02:15:46.282739Z",
     "iopub.status.busy": "2024-07-28T02:15:46.282318Z",
     "iopub.status.idle": "2024-07-28T02:15:46.288259Z",
     "shell.execute_reply": "2024-07-28T02:15:46.287027Z",
     "shell.execute_reply.started": "2024-07-28T02:15:46.282709Z"
    },
    "id": "d86fWDa81PZy"
   },
   "outputs": [],
   "source": [
    "# List of numerical columns\n",
    "numerical_columns = ['age', 'time_in_hospital', 'n_lab_procedures', 'n_procedures', 'n_medications', 'n_outpatient', 'n_inpatient', 'n_emergency']\n"
   ]
  },
  {
   "cell_type": "code",
   "execution_count": null,
   "metadata": {
    "execution": {
     "iopub.execute_input": "2024-07-28T02:15:47.084137Z",
     "iopub.status.busy": "2024-07-28T02:15:47.083605Z",
     "iopub.status.idle": "2024-07-28T02:15:47.104671Z",
     "shell.execute_reply": "2024-07-28T02:15:47.103343Z",
     "shell.execute_reply.started": "2024-07-28T02:15:47.084098Z"
    },
    "id": "oimuzCEf1PZz"
   },
   "outputs": [],
   "source": [
    "\n",
    "# Standardize numerical features\n",
    "scaler = StandardScaler()\n",
    "df_encoded[numerical_columns] = scaler.fit_transform(df_encoded[numerical_columns])"
   ]
  },
  {
   "cell_type": "code",
   "execution_count": null,
   "metadata": {
    "execution": {
     "iopub.execute_input": "2024-07-28T02:16:08.865583Z",
     "iopub.status.busy": "2024-07-28T02:16:08.865147Z",
     "iopub.status.idle": "2024-07-28T02:16:08.88683Z",
     "shell.execute_reply": "2024-07-28T02:16:08.885622Z",
     "shell.execute_reply.started": "2024-07-28T02:16:08.865549Z"
    },
    "id": "9b2Z8EaJ1PZz"
   },
   "outputs": [],
   "source": [
    "# Define features and target\n",
    "X = df_encoded.drop('readmitted', axis=1)\n",
    "y = df_encoded['readmitted']\n",
    "\n",
    "# Split the data into training and test sets\n",
    "X_train, X_test, y_train, y_test = train_test_split(X, y, test_size=0.3, random_state=42)\n"
   ]
  },
  {
   "cell_type": "code",
   "execution_count": null,
   "metadata": {
    "execution": {
     "iopub.execute_input": "2024-07-28T02:16:34.228338Z",
     "iopub.status.busy": "2024-07-28T02:16:34.22791Z",
     "iopub.status.idle": "2024-07-28T02:16:34.594591Z",
     "shell.execute_reply": "2024-07-28T02:16:34.593059Z",
     "shell.execute_reply.started": "2024-07-28T02:16:34.228307Z"
    },
    "id": "-G5YfloN1PZz"
   },
   "outputs": [],
   "source": [
    "# Initialize and train the model\n",
    "model = LogisticRegression(max_iter=1000, random_state=42)\n",
    "model.fit(X_train, y_train)"
   ]
  },
  {
   "cell_type": "code",
   "execution_count": null,
   "metadata": {
    "execution": {
     "iopub.execute_input": "2024-07-28T02:16:59.487681Z",
     "iopub.status.busy": "2024-07-28T02:16:59.487257Z",
     "iopub.status.idle": "2024-07-28T02:16:59.500525Z",
     "shell.execute_reply": "2024-07-28T02:16:59.498751Z",
     "shell.execute_reply.started": "2024-07-28T02:16:59.487649Z"
    },
    "id": "bC92ZVqG1PZz"
   },
   "outputs": [],
   "source": [
    "# Make predictions\n",
    "y_pred = model.predict(X_test)"
   ]
  },
  {
   "cell_type": "code",
   "execution_count": null,
   "metadata": {
    "execution": {
     "iopub.execute_input": "2024-07-28T02:20:29.889076Z",
     "iopub.status.busy": "2024-07-28T02:20:29.887967Z",
     "iopub.status.idle": "2024-07-28T02:20:30.809127Z",
     "shell.execute_reply": "2024-07-28T02:20:30.807962Z",
     "shell.execute_reply.started": "2024-07-28T02:20:29.889027Z"
    },
    "id": "PeiFNq0g1PZz"
   },
   "outputs": [],
   "source": [
    "# Evaluate the model\n",
    "precision = precision_score(y_test, y_pred,pos_label='yes')\n",
    "recall = recall_score(y_test, y_pred,pos_label='yes')\n",
    "f1 = f1_score(y_test, y_pred,pos_label='yes')\n",
    "\n",
    "print(f'Precision: {precision:.2f}')\n",
    "print(f'Recall: {recall:.2f}')\n",
    "print(f'F1 Score: {f1:.2f}')\n",
    "print('Classification Report:')\n",
    "print(classification_report(y_test, y_pred))\n",
    "print('Confusion Matrix:')\n",
    "print(confusion_matrix(y_test, y_pred))"
   ]
  },
  {
   "cell_type": "code",
   "execution_count": null,
   "metadata": {
    "id": "_WEDsm0h1PZz"
   },
   "outputs": [],
   "source": []
  }
 ],
 "metadata": {
  "colab": {
   "provenance": []
  },
  "kaggle": {
   "accelerator": "none",
   "dataSources": [
    {
     "datasetId": 2987828,
     "sourceId": 5142625,
     "sourceType": "datasetVersion"
    }
   ],
   "dockerImageVersionId": 30746,
   "isGpuEnabled": false,
   "isInternetEnabled": true,
   "language": "python",
   "sourceType": "notebook"
  },
  "kernelspec": {
   "display_name": "Python 3 (ipykernel)",
   "language": "python",
   "name": "python3"
  },
  "language_info": {
   "codemirror_mode": {
    "name": "ipython",
    "version": 3
   },
   "file_extension": ".py",
   "mimetype": "text/x-python",
   "name": "python",
   "nbconvert_exporter": "python",
   "pygments_lexer": "ipython3",
   "version": "3.9.13"
  }
 },
 "nbformat": 4,
 "nbformat_minor": 1
}
